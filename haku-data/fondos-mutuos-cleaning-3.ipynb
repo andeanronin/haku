{
 "cells": [
  {
   "cell_type": "markdown",
   "metadata": {},
   "source": [
    "### Task: Adding Unique Fund ID's"
   ]
  },
  {
   "cell_type": "code",
   "execution_count": null,
   "metadata": {},
   "outputs": [],
   "source": [
    "import pandas as pd\n",
    "\n",
    "fondos_mutuos_dataframe = pd.read_csv(\"fondos-mutuos-table-3.csv\")\n",
    "\n",
    "fondos_mutuos_dataframe['fund_id'] = range(1, len(fondos_mutuos_dataframe) + 1)\n",
    "\n",
    "fondos_mutuos_dataframe.head() "
   ]
  },
  {
   "cell_type": "code",
   "execution_count": null,
   "metadata": {},
   "outputs": [],
   "source": [
    "print(len(fondos_mutuos_dataframe['CAGR']))\n",
    "fondos_mutuos_dataframe = fondos_mutuos_dataframe.dropna(subset=[\"CAGR\"])\n",
    "print(len(fondos_mutuos_dataframe['CAGR']))\n",
    "fondos_mutuos_dataframe.head()"
   ]
  }
 ],
 "metadata": {
  "kernelspec": {
   "display_name": "haku-data-xNhk3P8A-py3.9",
   "language": "python",
   "name": "python3"
  },
  "language_info": {
   "codemirror_mode": {
    "name": "ipython",
    "version": 3
   },
   "file_extension": ".py",
   "mimetype": "text/x-python",
   "name": "python",
   "nbconvert_exporter": "python",
   "pygments_lexer": "ipython3",
   "version": "3.9.6"
  }
 },
 "nbformat": 4,
 "nbformat_minor": 2
}
