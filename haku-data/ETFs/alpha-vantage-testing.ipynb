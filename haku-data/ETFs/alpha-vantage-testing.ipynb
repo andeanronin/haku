{
 "cells": [
  {
   "cell_type": "code",
   "execution_count": null,
   "metadata": {},
   "outputs": [],
   "source": [
    "import os\n",
    "import pandas as pd\n",
    "\n",
    "print(\"Current working directory:\", os.getcwd())   # note: this script runs\n",
    "\n",
    "\n",
    "# Read execl containing list of ETFs in the BVL\n",
    "etfs_df = pd.read_excel(\"ETFs-BVL.xlsx\", sheet_name=0, header=0)\n",
    "\n",
    "# Select column: Nemonico \n",
    "tickers = etfs_df[etfs_df[\"Tipo\"] == \"ETF\"][\"Nemónico\"]\n",
    "\n",
    "print(tickers)"
   ]
  }
 ],
 "metadata": {
  "kernelspec": {
   "display_name": "haku-data-xNhk3P8A-py3.9",
   "language": "python",
   "name": "python3"
  },
  "language_info": {
   "codemirror_mode": {
    "name": "ipython",
    "version": 3
   },
   "file_extension": ".py",
   "mimetype": "text/x-python",
   "name": "python",
   "nbconvert_exporter": "python",
   "pygments_lexer": "ipython3",
   "version": "3.9.6"
  }
 },
 "nbformat": 4,
 "nbformat_minor": 2
}
