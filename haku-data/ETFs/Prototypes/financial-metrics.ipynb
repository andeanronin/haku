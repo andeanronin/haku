{
 "cells": [
  {
   "cell_type": "markdown",
   "metadata": {},
   "source": [
    "## Get Cagr"
   ]
  },
  {
   "cell_type": "code",
   "execution_count": null,
   "metadata": {},
   "outputs": [],
   "source": [
    "# This script iterates over json file with ETF's monthly values, gets the funds CAGR and  \n",
    "\n",
    "import pandas as pd\n",
    "import json\n",
    "from datetime import datetime\n",
    "\n",
    "\n",
    "with open(\"sample-monthly-values.json\", \"r\") as file:\n",
    "    data = json.load(file) \n",
    "\n",
    "\n",
    "for etf in data:\n",
    "    monthly_values = data[etf][\"Monthly Adjusted Time Series\"]\n",
    "    \n",
    "    monthly_values_keys = list(monthly_values.keys())\n",
    "\n",
    "    current_date = datetime.strptime(monthly_values_keys[0],  \"%Y-%m-%d\").date()\n",
    "    start_date = datetime.strptime(monthly_values_keys[-1],  \"%Y-%m-%d\").date()\n",
    "    \n",
    "    duration = (current_date - start_date) # duration is a datetime object \n",
    "\n",
    "    fund_years = duration.days / 365.25\n",
    "    \n",
    "    current_etf_price = float(monthly_values[monthly_values_keys[0]][\"4. close\"])\n",
    "\n",
    "    start_etf_price = float(monthly_values[monthly_values_keys[-1]][\"4. close\"])\n",
    "\n",
    "    cagr = ((current_etf_price / start_etf_price)**(1/fund_years)) - 1\n",
    "\n",
    "    data[etf][\"Meta Data\"][\"5. CAGR\"] = cagr\n",
    "\n",
    "    print(f\"{etf} CAGR: \", cagr)\n",
    "\n",
    "print(data['ARKK'][\"Meta Data\"])\n",
    "\n",
    "# Store data in JSON file\n",
    "with open('sample-monthly-values.json', 'w') as json_file:\n",
    "    json.dump(data, json_file, indent=4)\n",
    "\n"
   ]
  },
  {
   "cell_type": "markdown",
   "metadata": {},
   "source": [
    "## Annualized Returns Table\n",
    "- this script csv table with all the monthly values & uses pandas to return a csv table of each fund's yearly returns. "
   ]
  },
  {
   "cell_type": "code",
   "execution_count": null,
   "metadata": {},
   "outputs": [],
   "source": [
    "import pandas as pd\n",
    "\n",
    "\n",
    "# Import CSV with Monthly Values \n",
    "monthly_values_df = pd.read_csv(\"sample-monthly-values.csv\")\n",
    "\n",
    "# Initialize Empty Dataframe\n",
    "yearly_returns_df = pd.DataFrame()\n",
    "\n",
    "# Convert the 'timestamp' column to datetime\n",
    "monthly_values_df['timestamp'] = pd.to_datetime(monthly_values_df['timestamp'])\n",
    "\n",
    "# Set the 'timestamp' as the DataFrame index\n",
    "monthly_values_df.set_index('timestamp', inplace=True)\n",
    "\n",
    "# Group data by 'ticker' if you have multiple ETFs in the CSV\n",
    "etf_groups = monthly_values_df.groupby('ticker')  # creates two dataframes: one for each ticker\n",
    "\n",
    "\n",
    "# Iterate over each ETF group\n",
    "for ticker, group in etf_groups:\n",
    "    # Resample the data by year, selecting the first and last 'close' price for each year\n",
    "    # returns a dataframe with: timestamp / first (price) / last (price) \n",
    "    annual_data = group.resample('Y').agg({\n",
    "        'close': ['first', 'last']  # take the first and last closing prices for each year \n",
    "    })\n",
    "    \n",
    "    # Calculate annualized returns\n",
    "    annual_data['annualized_return'] = (annual_data[('close', 'last')] / annual_data[('close', 'first')]) - 1\n",
    "    annual_data['ticker'] = ticker\n",
    "\n",
    "    # Normalize column names\n",
    "    annual_data.columns = ['first', 'last', 'annualized_return', 'ticker']\n",
    "\n",
    "    yearly_returns_df = pd.concat([yearly_returns_df, annual_data], ignore_index=False)\n",
    "\n",
    "\n",
    "# Save yearly returns in csv \n",
    "yearly_returns_df.to_csv('sample-yearly-returns.csv', index=True)\n",
    "\n"
   ]
  },
  {
   "cell_type": "markdown",
   "metadata": {},
   "source": [
    "## Get Standard Deviation of Annual Returns"
   ]
  },
  {
   "cell_type": "code",
   "execution_count": null,
   "metadata": {},
   "outputs": [],
   "source": [
    "import pandas as pd\n",
    "\n",
    "\n",
    "# Import yearly returns csv table \n",
    "yearly_returns_table = pd.read_csv(\"sample-yearly-returns.csv\")\n",
    "\n",
    "# 1. Calculate each fund's Standard Deviation of annual returns \n",
    "stdev = yearly_returns_table.groupby('ticker')[\"annualized_return\"].std()\n",
    "\n",
    "print(stdev)\n",
    "\n",
    "# 1.2 Export table with Standard Deviations to csv \n",
    "stdev.to_csv(\"sample-standard-deviations.csv\", index=True)\n",
    "\n",
    "\n",
    "# 2. Import monthly values file \n",
    "with open(\"sample-monthly-values.json\", \"r\") as file:\n",
    "    monthly_values_json = json.load(file) \n",
    "\n",
    "# 2.2 Store Standard Devs in Monthly Values File \n",
    "for ticker in stdev.index:\n",
    "    monthly_values_json[ticker][\"Meta Data\"][\"6. Stdev of Returns\"] = stdev[ticker]\n",
    "\n",
    "print(monthly_values_json['ARKK'][\"Meta Data\"])\n",
    "\n",
    "# 2.3 Update monthly values file with STDev data\n",
    "with open('sample-monthly-values.json', 'w') as json_file:\n",
    "    json.dump(monthly_values_json, json_file, indent=4)\n",
    " \n"
   ]
  },
  {
   "cell_type": "markdown",
   "metadata": {},
   "source": [
    "## Get Sharpe Ratio"
   ]
  },
  {
   "cell_type": "code",
   "execution_count": null,
   "metadata": {},
   "outputs": [],
   "source": [
    "risk_free_rate = 0.02\n",
    "\n",
    "file_dict = {\n",
    "    \"ARKK\": {\n",
    "        \"Meta Data\": {\n",
    "            \"1. Information\": \"Monthly Adjusted Prices and Volumes\",\n",
    "            \"2. Symbol\": \"ARKK\",\n",
    "            \"3. Last Refreshed\": \"2024-09-23\",\n",
    "            \"4. Time Zone\": \"US/Eastern\",\n",
    "            \"5. CAGR\": 0.08753236094442607,\n",
    "            \"6. Stdev of Returns\": 0.5249136603898312\n",
    "        }},\n",
    "    \"AZTD\": {\n",
    "        \"Meta Data\": {\n",
    "            \"1. Information\": \"Monthly Adjusted Prices and Volumes\",\n",
    "            \"2. Symbol\": \"AZTD\",\n",
    "            \"3. Last Refreshed\": \"2024-09-23\",\n",
    "            \"4. Time Zone\": \"US/Eastern\",\n",
    "            \"5. CAGR\": 0.16460331337349632,\n",
    "            \"6. Stdev of Returns\": 0.05367809475589438\n",
    "        }}}\n",
    "\n",
    "for etf in file_dict:\n",
    "    file_dict[etf][\"Meta Data\"][\"7. Sharpe Ratio\"] = (file_dict[etf][\"Meta Data\"][\"5. CAGR\"] - risk_free_rate) / file_dict[etf][\"Meta Data\"][\"6. Stdev of Returns\"]\n",
    "\n",
    "print(file_dict[\"ARKK\"][\"Meta Data\"])\n"
   ]
  },
  {
   "cell_type": "code",
   "execution_count": null,
   "metadata": {},
   "outputs": [],
   "source": [
    "import json\n",
    "\n",
    "# Import monthly values file \n",
    "with open(\"sample-monthly-values.json\", \"r\") as file:\n",
    "    monthly_values_json = json.load(file) \n",
    "\n",
    "risk_free_rate = 0.02\n",
    "\n",
    "for etf in monthly_values_json:\n",
    "    monthly_values_json[etf][\"Meta Data\"][\"7. Sharpe Ratio\"] = (monthly_values_json[etf][\"Meta Data\"][\"5. CAGR\"] - risk_free_rate) / monthly_values_json[etf][\"Meta Data\"][\"6. Stdev of Returns\"]\n",
    "\n",
    "\n",
    "monthly_values_json[\"AZTD\"][\"Meta Data\"]\n",
    "\n",
    "# Store data in JSON file\n",
    "with open('sample-monthly-values-final.json', 'w') as json_file:\n",
    "    json.dump(monthly_values_json, json_file, indent=4)"
   ]
  }
 ],
 "metadata": {
  "kernelspec": {
   "display_name": "haku-data-xNhk3P8A-py3.9",
   "language": "python",
   "name": "python3"
  },
  "language_info": {
   "codemirror_mode": {
    "name": "ipython",
    "version": 3
   },
   "file_extension": ".py",
   "mimetype": "text/x-python",
   "name": "python",
   "nbconvert_exporter": "python",
   "pygments_lexer": "ipython3",
   "version": "3.9.6"
  }
 },
 "nbformat": 4,
 "nbformat_minor": 2
}
