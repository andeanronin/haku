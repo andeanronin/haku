{
 "cells": [
  {
   "cell_type": "markdown",
   "metadata": {},
   "source": [
    "### Task: Adding Unique Fund ID's"
   ]
  },
  {
   "cell_type": "code",
   "execution_count": null,
   "metadata": {},
   "outputs": [],
   "source": [
    "import pandas as pd\n",
    "\n",
    "fondos_mutuos_dataframe = pd.read_csv(\"fondos-mutuos-table-3.csv\")\n",
    "\n",
    "fondos_mutuos_dataframe['fund_id'] = range(1, len(fondos_mutuos_dataframe) + 1)\n",
    "\n",
    "fondos_mutuos_dataframe.head() "
   ]
  },
  {
   "cell_type": "code",
   "execution_count": null,
   "metadata": {},
   "outputs": [],
   "source": [
    "print(len(fondos_mutuos_dataframe['CAGR']))\n",
    "fondos_mutuos_dataframe = fondos_mutuos_dataframe.dropna(subset=[\"CAGR\"])\n",
    "print(len(fondos_mutuos_dataframe['CAGR']))\n",
    "fondos_mutuos_dataframe.head()"
   ]
  },
  {
   "cell_type": "markdown",
   "metadata": {},
   "source": [
    "## Remove BLANCO SAF"
   ]
  },
  {
   "cell_type": "code",
   "execution_count": null,
   "metadata": {},
   "outputs": [],
   "source": [
    "fondos_mutuos_dataframe = fondos_mutuos_dataframe[fondos_mutuos_dataframe[\"Administradora\"] != \"BLANCO SAFI S.A.C.\"]\n"
   ]
  },
  {
   "cell_type": "markdown",
   "metadata": {},
   "source": [
    "## Adding logo routes to Dataset"
   ]
  },
  {
   "cell_type": "code",
   "execution_count": null,
   "metadata": {},
   "outputs": [],
   "source": [
    "import pandas as pd\n",
    "\n",
    "fondos_mutuos_df = pd.read_csv(\"fondos-mutuos-table-4.csv\")\n",
    "\n",
    "gestores = set(fondos_mutuos_df['Administradora'])\n",
    "\n",
    "print(gestores)\n",
    "\n",
    "gestores = {'BTG PACTUAL PERU SAF', 'BLUM SAF', 'PROMOINVEST SAF', 'FONDOS SURA SAF', 'INTERFONDO', 'INDEPENDIENTE SAF', 'SCOTIA FONDOS', \n",
    " 'BLANCO SAFI S.A.C.', 'FARO CAPITAL SAFI', 'PRUDENTIALSAF SAF', 'DIVISO FONDOS SAF S.A.', 'CORIL SAF', 'CONTINENTAL FM', \n",
    " 'ANDEAN CROWN SAF S.A.C.', 'EL DORADO SAF', 'BD CAPITAL SAF', 'CREDIFONDO SAF'}\n",
    "\n"
   ]
  },
  {
   "cell_type": "code",
   "execution_count": null,
   "metadata": {},
   "outputs": [],
   "source": [
    "logo_routes = [ \"./assets/logosFondosMutuos/logoBbva.svg\", \"./assets/logosFondosMutuos/logoScotia2.png\", \"./assets/logosFondosMutuos/logoSura.png\", \"./assets/logosFondosMutuos/logoCredicorp.png\", \n",
    "\"./assets/logosFondosMutuos/logoInterFondos.png\", \"./assets/logosFondosMutuos/logoBlum.png\", \"./assets/logosFondosMutuos/logoDorado.png\", \"./assets/logosFondosMutuos/logoCoril.png\", \n",
    "\"./assets/logosFondosMutuos/logoPrudential.png\", \"./assets/logosFondosMutuos/logoIndependiente.png\", \"./assets/logosFondosMutuos/logoBD.png\", \"./assets/logosFondosMutuos/logoBtg.png\", \n",
    "\"./assets/logosFondosMutuos/logoFaro.png\", \"./assets/logosFondosMutuos/logoAC.png\"]\n",
    "\n",
    "logo_mapping = {\n",
    "    \"BTG PACTUAL PERU SAF\": \"./assets/logosFondosMutuos/logoBtg.png\",\n",
    "    \"BLUM SAF\": \"./assets/logosFondosMutuos/logoBlum.png\",\n",
    "    \"PROMOINVEST SAF\": \"./assets/logosFondosMutuos/logoPromoInvest.png\",  \n",
    "    \"FONDOS SURA SAF\": \"./assets/logosFondosMutuos/logoSura.png\",\n",
    "    \"INTERFONDO\": \"./assets/logosFondosMutuos/logoInterFondos.png\",\n",
    "    \"INDEPENDIENTE SAF\": \"./assets/logosFondosMutuos/logoIndependiente.png\",\n",
    "    \"SCOTIA FONDOS\": \"./assets/logosFondosMutuos/logoScotia2.png\",\n",
    "    \"FARO CAPITAL SAFI\": \"./assets/logosFondosMutuos/logoFaro.png\",\n",
    "    \"PRUDENTIALSAF SAF\": \"./assets/logosFondosMutuos/logoPrudential.png\",\n",
    "    \"DIVISO FONDOS SAF S.A.\": \"./assets/logosFondosMutuos/logoDiviso.png\",  \n",
    "    \"CORIL SAF\": \"./assets/logosFondosMutuos/logoCoril.png\",\n",
    "    \"CONTINENTAL FM\": \"./assets/logosFondosMutuos/logoBbva.svg\",\n",
    "    \"ANDEAN CROWN SAF S.A.C.\": \"./assets/logosFondosMutuos/logoAC.png\",\n",
    "    \"EL DORADO SAF\": \"./assets/logosFondosMutuos/logoDorado.png\",\n",
    "    \"BD CAPITAL SAF\": \"./assets/logosFondosMutuos/logoBD.png\",\n",
    "    \"CREDIFONDO SAF\": \"./assets/logosFondosMutuos/logoCredicorp.png\"\n",
    "}\n"
   ]
  },
  {
   "cell_type": "code",
   "execution_count": null,
   "metadata": {},
   "outputs": [],
   "source": [
    "fondos_list = [\n",
    "  {\n",
    "    \"Tipo Fondo\": \"Renta Variable\",\n",
    "    \"Fondo Mutuo\": \"CREDICORP ACCIONES GLOBAL\",\n",
    "    \"Administradora\": \"CREDIFONDO SAF\",\n",
    "    \"Fec. Inicio Operaci\\u00f3n\": \"25/03/2013\",\n",
    "    \"Moneda Cuota\": \"$\",\n",
    "    \"Valor Cuota\": 180.92,\n",
    "    \"Rentabilidad 2024\": 0.0967,\n",
    "    \"Rentabilidad 2023\": 0.1656,\n",
    "    \"Rentabilidad 2022\": -0.2041,\n",
    "    \"Rentabilidad 2021\": 0.1397,\n",
    "    \"Rentabilidad 2020\": 0.1303,\n",
    "    \"Rentabilidad 2019\": 0.2313,\n",
    "    \"Rentabilidad 2018\": -0.1154,\n",
    "    \"Rentabilidad 2017\": 0.2009,\n",
    "    \"Rentabilidad 2016\": 0.0315,\n",
    "    \"Rentabilidad 2015\": -0.0556,\n",
    "    \"Rentabilidad 2014\": -0.0042,\n",
    "    \"Patrimonio S/.\": 23652842.5100000016,\n",
    "    \"Part\\u00edcipes N\": 894.0,\n",
    "    \"A\\u00f1os\": 11,\n",
    "    \"Categoria\": \"Renta Variable\",\n",
    "    \"Fund id\": 1,\n",
    "    \"Highest Return\": 0.2313,\n",
    "    \"Lowest Return\": -0.2041,\n",
    "    \"Avg Return (Arithmetic)\": 0.0587333333,\n",
    "    \"Standard Deviation of Returns\": 0.132015187,\n",
    "    \"Total Cumulative Return\": 0.6630111261,\n",
    "    \"Cumulative Return Period\": 10.5,\n",
    "    \"Annualized Cumulative Return\": 0.0631439168,\n",
    "    \"CAGR\": 0.0496333807,\n",
    "    \"Sharpe Ratio\": 0.2244694824,\n",
    "    \"Risk\": \"Medium\"\n",
    "  },\n",
    "  {\n",
    "    \"Tipo Fondo\": \"Renta Variable\",\n",
    "    \"Fondo Mutuo\": \"CREDICORP CAPITAL ACCIONES\",\n",
    "    \"Administradora\": \"CREDIFONDO SAF\",\n",
    "    \"Fec. Inicio Operaci\\u00f3n\": \"17/01/2007\",\n",
    "    \"Moneda Cuota\": \"$\",\n",
    "    \"Valor Cuota\": 166.16,\n",
    "    \"Rentabilidad 2024\": 0.106,\n",
    "    \"Rentabilidad 2023\": 0.228,\n",
    "    \"Rentabilidad 2022\": 0.0215,\n",
    "    \"Rentabilidad 2021\": -0.0644,\n",
    "    \"Rentabilidad 2020\": -0.0588,\n",
    "    \"Rentabilidad 2019\": 0.0563,\n",
    "    \"Rentabilidad 2018\": -0.1253,\n",
    "    \"Rentabilidad 2017\": 0.2724,\n",
    "    \"Rentabilidad 2016\": 0.5416,\n",
    "    \"Rentabilidad 2015\": -0.4038,\n",
    "    \"Rentabilidad 2014\": -0.116,\n",
    "    \"Patrimonio S/.\": 43751750.3800000027,\n",
    "    \"Part\\u00edcipes N\": 564.0,\n",
    "    \"A\\u00f1os\": 17,\n",
    "    \"Categoria\": \"Renta Variable\",\n",
    "    \"Fund id\": 2,\n",
    "    \"Highest Return\": 0.5416,\n",
    "    \"Lowest Return\": -0.4038,\n",
    "    \"Avg Return (Arithmetic)\": 0.0435714286,\n",
    "    \"Standard Deviation of Returns\": 0.2364923401,\n",
    "    \"Total Cumulative Return\": 0.1669439627,\n",
    "    \"Cumulative Return Period\": 10.5,\n",
    "    \"Annualized Cumulative Return\": 0.015899425,\n",
    "    \"CAGR\": 0.0148122813,\n",
    "    \"Sharpe Ratio\": -0.0219360961,\n",
    "    \"Risk\": \"High\"\n",
    "  }]\n",
    "\n",
    "logo_map = {\n",
    "    \"BTG PACTUAL PERU SAF\": \"./assets/logosFondosMutuos/logoBtg.png\",\n",
    "    \"BLUM SAF\": \"./assets/logosFondosMutuos/logoBlum.png\",\n",
    "    \"PROMOINVEST SAF\": \"./assets/logosFondosMutuos/logoPromoInvest.png\",  \n",
    "    \"FONDOS SURA SAF\": \"./assets/logosFondosMutuos/logoSura.png\",\n",
    "    \"INTERFONDO\": \"./assets/logosFondosMutuos/logoInterFondos.png\",\n",
    "    \"INDEPENDIENTE SAF\": \"./assets/logosFondosMutuos/logoIndependiente.png\",\n",
    "    \"SCOTIA FONDOS\": \"./assets/logosFondosMutuos/logoScotia2.png\",\n",
    "    \"FARO CAPITAL SAFI\": \"./assets/logosFondosMutuos/logoFaro.png\",\n",
    "    \"PRUDENTIALSAF SAF\": \"./assets/logosFondosMutuos/logoPrudential.png\",\n",
    "    \"DIVISO FONDOS SAF S.A.\": \"./assets/logosFondosMutuos/logoDiviso.png\",  \n",
    "    \"CORIL SAF\": \"./assets/logosFondosMutuos/logoCoril.png\",\n",
    "    \"CONTINENTAL FM\": \"./assets/logosFondosMutuos/logoBbva.svg\",\n",
    "    \"ANDEAN CROWN SAF S.A.C.\": \"./assets/logosFondosMutuos/logoAC.png\",\n",
    "    \"EL DORADO SAF\": \"./assets/logosFondosMutuos/logoDorado.png\",\n",
    "    \"BD CAPITAL SAF\": \"./assets/logosFondosMutuos/logoBD.png\",\n",
    "    \"CREDIFONDO SAF\": \"./assets/logosFondosMutuos/logoCredicorp.png\"\n",
    "}\n",
    "\n",
    "\n",
    "for item in range(len(fondos_list)):\n",
    "  fondos_list[item][\"Logo\"] = logo_map[fondos_list[item][\"Administradora\"]]\n",
    "\n",
    "print(fondos_list[0])\n",
    "\n",
    "# Better implementation:\n",
    "for item in fondos_list:\n",
    "  item[\"Logo\"] = logo_map[item[\"Administradora\"]]\n",
    "\n",
    "print(fondos_list[1])"
   ]
  },
  {
   "cell_type": "code",
   "execution_count": null,
   "metadata": {},
   "outputs": [],
   "source": [
    "import json \n",
    "\n",
    "file = open('../haku-app/src/assets/fondos-mutuos-data-4.json') \n",
    "\n",
    "# Load json file to a python list object\n",
    "fondos_mutuos_list = json.load(file) "
   ]
  },
  {
   "cell_type": "code",
   "execution_count": null,
   "metadata": {},
   "outputs": [],
   "source": [
    "alist = [1, 2, 3]\n",
    "\n",
    "for i in alist:\n",
    "    print(i*2)"
   ]
  }
 ],
 "metadata": {
  "kernelspec": {
   "display_name": "haku-data-xNhk3P8A-py3.9",
   "language": "python",
   "name": "python3"
  },
  "language_info": {
   "codemirror_mode": {
    "name": "ipython",
    "version": 3
   },
   "file_extension": ".py",
   "mimetype": "text/x-python",
   "name": "python",
   "nbconvert_exporter": "python",
   "pygments_lexer": "ipython3",
   "version": "3.9.6"
  }
 },
 "nbformat": 4,
 "nbformat_minor": 2
}
