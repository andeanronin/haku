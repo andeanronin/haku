{
 "cells": [
  {
   "cell_type": "code",
   "execution_count": 2,
   "metadata": {},
   "outputs": [
    {
     "name": "stdout",
     "output_type": "stream",
     "text": [
      "Datos Patrimonio:\n",
      "0.04%\n",
      "<class 'str'>\n",
      "Datos Rentabilidad\n",
      "5.63%\n",
      "<class 'str'>\n"
     ]
    }
   ],
   "source": [
    "import pandas as pd\n",
    "\n",
    "fondos_mutuos_dataframe = pd.read_csv('fondos-mutuos-todo.csv')\n",
    "\n",
    "column_names = ['Tipo Fondo', 'Fondo Mutuo', 'Administradora', 'Fec. Inicio Operación', 'Moneda Cuota', \n",
    "                 'Valor Cuota', 'Variacion desde el Inicio del 2024', 'Rentabilidad(A) 2023', 'Rentabilidad(A) 2022',\n",
    "                 'Rentabilidad(A) 2021', 'Rentabilidad(A) 2020', 'Rentabilidad(A) 2019', 'Rentabilidad(A) 2018', \n",
    "                 'Rentabilidad(A) 2017', 'Rentabilidad(A) 2016', 'Rentabilidad(A) 2015', 'Rentabilidad(A) 2014', \n",
    "                 'Patrimonio S/.', 'Patrimonio %', 'Partícipes N', 'Partícipes %', 'Inf. Atrasada']\n",
    "\n",
    "# Values in 'patrimonio' column are strings, not float numbers\n",
    "print('Datos Patrimonio:')\n",
    "print(fondos_mutuos_dataframe['Patrimonio %'][2])\n",
    "print(type(fondos_mutuos_dataframe['Patrimonio %'][2]))\n",
    "\n",
    "# Values in column 'rentabilidad 2019' are strings not integers\n",
    "print(\"Datos Rentabilidad\")\n",
    "print(fondos_mutuos_dataframe['Rentabilidad(A) 2019'][1])\n",
    "print(type(fondos_mutuos_dataframe['Rentabilidad(A) 2019'][1]))"
   ]
  },
  {
   "cell_type": "code",
   "execution_count": 16,
   "metadata": {},
   "outputs": [
    {
     "name": "stdout",
     "output_type": "stream",
     "text": [
      "<class 'pandas.core.series.Series'>\n",
      "Tipo Fondo                                                  01 - Renta Variable\n",
      "Fondo Mutuo                           CREDICORP CAPITAL ACCIONES CREDIFONDO SAF\n",
      "Administradora                                                   CREDIFONDO SAF\n",
      "Fec. Inicio Operación                                                17/01/2007\n",
      "Moneda Cuota                                                                  $\n",
      "Valor Cuota                                                          166.157649\n",
      "Variacion desde el Inicio del 2024                                       10.60%\n",
      "Rentabilidad(A) 2023                                                     22.80%\n",
      "Rentabilidad(A) 2022                                                      2.15%\n",
      "Rentabilidad(A) 2021                                                     -6.44%\n",
      "Rentabilidad(A) 2020                                                     -5.88%\n",
      "Rentabilidad(A) 2019                                                      5.63%\n",
      "Rentabilidad(A) 2018                                                    -12.53%\n",
      "Rentabilidad(A) 2017                                                     27.24%\n",
      "Rentabilidad(A) 2016                                                     54.16%\n",
      "Rentabilidad(A) 2015                                                    -40.38%\n",
      "Rentabilidad(A) 2014                                                    -11.60%\n",
      "Patrimonio S/.                                                    43,751,750.38\n",
      "Patrimonio %                                                              0.11%\n",
      "Partícipes N                                                                564\n",
      "Partícipes %                                                              0.13%\n",
      "Inf. Atrasada                                                        30/06/2024\n",
      "Name: 1, dtype: object\n",
      "Tipo Fondo                                                  01 - Renta Variable\n",
      "Fondo Mutuo                           CREDICORP CAPITAL ACCIONES CREDIFONDO SAF\n",
      "Administradora                                                   CREDIFONDO SAF\n",
      "Fec. Inicio Operación                                                17/01/2007\n",
      "Moneda Cuota                                                                  $\n",
      "Valor Cuota                                                          166.157649\n",
      "Variacion desde el Inicio del 2024                                       10.60%\n",
      "Rentabilidad(A) 2023                                                     22.80%\n",
      "Rentabilidad(A) 2022                                                      2.15%\n",
      "Rentabilidad(A) 2021                                                     -6.44%\n",
      "Rentabilidad(A) 2020                                                     -5.88%\n",
      "Rentabilidad(A) 2019                                                      5.63%\n",
      "Rentabilidad(A) 2018                                                    -12.53%\n",
      "Rentabilidad(A) 2017                                                     27.24%\n",
      "Rentabilidad(A) 2016                                                     54.16%\n",
      "Rentabilidad(A) 2015                                                    -40.38%\n",
      "Rentabilidad(A) 2014                                                    -11.60%\n",
      "Patrimonio S/.                                                    43,751,750.38\n",
      "Patrimonio %                                                              0.11%\n",
      "Partícipes N                                                                564\n",
      "Partícipes %                                                              0.13%\n",
      "Inf. Atrasada                                                        30/06/2024\n",
      "Name: 1, dtype: object\n"
     ]
    }
   ],
   "source": [
    "# Gets the values of the second row: \n",
    "second_row = fondos_mutuos_dataframe.iloc[1]\n",
    "\n",
    "# Print data type \n",
    "print(\"Data type of pandas row from iloc:\")\n",
    "print(type(second_row))\n",
    "\n",
    "# Print second_row variable \n",
    "print('Values in row:')\n",
    "print(second_row)"
   ]
  },
  {
   "cell_type": "code",
   "execution_count": 14,
   "metadata": {},
   "outputs": [
    {
     "name": "stdout",
     "output_type": "stream",
     "text": [
      "01 - Renta Variable             <class 'str'>\n",
      "CREDICORP CAPITAL ACCIONES CREDIFONDO SAF             <class 'str'>\n",
      "CREDIFONDO SAF             <class 'str'>\n",
      "17/01/2007             <class 'str'>\n",
      "$             <class 'str'>\n",
      "166.157649             <class 'numpy.float64'>\n",
      "10.60%             <class 'str'>\n",
      "22.80%             <class 'str'>\n",
      "2.15%             <class 'str'>\n",
      "-6.44%             <class 'str'>\n",
      "-5.88%             <class 'str'>\n",
      "5.63%             <class 'str'>\n",
      "-12.53%             <class 'str'>\n",
      "27.24%             <class 'str'>\n",
      "54.16%             <class 'str'>\n",
      "-40.38%             <class 'str'>\n",
      "-11.60%             <class 'str'>\n",
      "43,751,750.38             <class 'str'>\n",
      "0.11%             <class 'str'>\n",
      "564             <class 'str'>\n",
      "0.13%             <class 'str'>\n",
      "30/06/2024             <class 'str'>\n"
     ]
    }
   ],
   "source": [
    "for v in second_row:\n",
    "    print(v, '           ', type(v))"
   ]
  },
  {
   "cell_type": "code",
   "execution_count": 13,
   "metadata": {},
   "outputs": [
    {
     "name": "stdout",
     "output_type": "stream",
     "text": [
      "43751750.38\n",
      "<class 'numpy.float64'>\n"
     ]
    }
   ],
   "source": [
    "def remove_commas_and_convert(series): \n",
    "    return pd.to_numeric(series.str.replace(',' , ''), errors='coerce')\n",
    "\n",
    "fondos_mutuos_dataframe['Patrimonio S/.'] = remove_commas_and_convert(fondos_mutuos_dataframe['Patrimonio S/.'])\n",
    "\n",
    "print(fondos_mutuos_dataframe['Patrimonio S/.'][1])\n",
    "\n",
    "print(type(fondos_mutuos_dataframe['Patrimonio S/.'][1]))"
   ]
  },
  {
   "cell_type": "code",
   "execution_count": 18,
   "metadata": {},
   "outputs": [
    {
     "name": "stdout",
     "output_type": "stream",
     "text": [
      "207.83751697959045\n",
      "172126967.72194093\n"
     ]
    }
   ],
   "source": [
    "print(fondos_mutuos_dataframe['Valor Cuota'].mean())\n",
    "print(fondos_mutuos_dataframe['Patrimonio S/.'].mean())"
   ]
  }
 ],
 "metadata": {
  "kernelspec": {
   "display_name": "haku-data-xNhk3P8A-py3.9",
   "language": "python",
   "name": "python3"
  },
  "language_info": {
   "codemirror_mode": {
    "name": "ipython",
    "version": 3
   },
   "file_extension": ".py",
   "mimetype": "text/x-python",
   "name": "python",
   "nbconvert_exporter": "python",
   "pygments_lexer": "ipython3",
   "version": "3.9.6"
  }
 },
 "nbformat": 4,
 "nbformat_minor": 2
}
