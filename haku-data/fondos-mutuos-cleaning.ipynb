{
 "cells": [
  {
   "cell_type": "code",
   "execution_count": null,
   "metadata": {},
   "outputs": [],
   "source": [
    "import pandas as pd\n",
    "\n",
    "fondos_mutuos_dataframe = pd.read_csv('fondos-mutuos-todo.csv')\n",
    "\n",
    "column_names = ['Tipo Fondo', 'Fondo Mutuo', 'Administradora', 'Fec. Inicio Operación', 'Moneda Cuota', \n",
    "                 'Valor Cuota', 'Variacion desde el Inicio del 2024', 'Rentabilidad(A) 2023', 'Rentabilidad(A) 2022',\n",
    "                 'Rentabilidad(A) 2021', 'Rentabilidad(A) 2020', 'Rentabilidad(A) 2019', 'Rentabilidad(A) 2018', \n",
    "                 'Rentabilidad(A) 2017', 'Rentabilidad(A) 2016', 'Rentabilidad(A) 2015', 'Rentabilidad(A) 2014', \n",
    "                 'Patrimonio S/.', 'Patrimonio %', 'Partícipes N', 'Partícipes %', 'Inf. Atrasada']\n",
    "\n",
    "# Values in 'patrimonio' column are strings, not float numbers\n",
    "print('Datos Patrimonio:')\n",
    "print(fondos_mutuos_dataframe['Patrimonio %'][2])\n",
    "print(type(fondos_mutuos_dataframe['Patrimonio %'][2]))\n",
    "\n",
    "# Values in column 'rentabilidad 2019' are strings not integers\n",
    "print(\"Datos Rentabilidad\")\n",
    "print(fondos_mutuos_dataframe['Rentabilidad(A) 2019'][1])\n",
    "print(type(fondos_mutuos_dataframe['Rentabilidad(A) 2019'][1]))"
   ]
  },
  {
   "cell_type": "code",
   "execution_count": null,
   "metadata": {},
   "outputs": [],
   "source": [
    "# Gets the values of the second row: \n",
    "second_row = fondos_mutuos_dataframe.iloc[1]\n",
    "\n",
    "# Print data type \n",
    "print(\"Data type of pandas row from iloc:\")\n",
    "print(type(second_row))\n",
    "\n",
    "# Print second_row variable \n",
    "print('Values in row:')\n",
    "print(second_row)"
   ]
  },
  {
   "cell_type": "code",
   "execution_count": null,
   "metadata": {},
   "outputs": [],
   "source": [
    "for v in second_row:\n",
    "    print(v, '           ', type(v))"
   ]
  },
  {
   "cell_type": "code",
   "execution_count": null,
   "metadata": {},
   "outputs": [],
   "source": [
    "def remove_commas_and_convert(series): \n",
    "    return pd.to_numeric(series.str.replace(',' , ''), errors='coerce')\n",
    "\n",
    "fondos_mutuos_dataframe['Patrimonio S/.'] = remove_commas_and_convert(fondos_mutuos_dataframe['Patrimonio S/.'])\n",
    "\n",
    "print(fondos_mutuos_dataframe['Patrimonio S/.'][1])\n",
    "\n",
    "print(type(fondos_mutuos_dataframe['Patrimonio S/.'][1]))"
   ]
  },
  {
   "cell_type": "code",
   "execution_count": null,
   "metadata": {},
   "outputs": [],
   "source": [
    "print(fondos_mutuos_dataframe['Valor Cuota'].mean())\n",
    "print(fondos_mutuos_dataframe['Patrimonio S/.'].mean())"
   ]
  }
 ],
 "metadata": {
  "kernelspec": {
   "display_name": "haku-data-xNhk3P8A-py3.9",
   "language": "python",
   "name": "python3"
  },
  "language_info": {
   "codemirror_mode": {
    "name": "ipython",
    "version": 3
   },
   "file_extension": ".py",
   "mimetype": "text/x-python",
   "name": "python",
   "nbconvert_exporter": "python",
   "pygments_lexer": "ipython3",
   "version": "3.9.6"
  }
 },
 "nbformat": 4,
 "nbformat_minor": 2
}
