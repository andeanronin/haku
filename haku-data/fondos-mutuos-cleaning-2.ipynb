{
 "cells": [
  {
   "cell_type": "code",
   "execution_count": null,
   "metadata": {},
   "outputs": [],
   "source": [
    "import pandas as pd\n",
    "\n",
    "# Import Table\n",
    "fondos_mutuos_dataframe = pd.read_csv('fondos-mutuos-table-1.csv')\n",
    "\n",
    "# Import \n",
    "\n",
    "# print(type(fondos_mutuos_dataframe[\"Fondo Mutuo\"]))"
   ]
  },
  {
   "cell_type": "markdown",
   "metadata": {},
   "source": [
    "## Task 1: Limpiar Columna \"Fondo Mutuo\" de la tabla \n",
    "La columna de los nombres de los fondos contienen el nombre del gestor:\n",
    "    - CREDICORP ACCIONES GLOBAL CREDIFONDO SAF\n",
    "\n",
    "Hay que remover CREDIFONDO SAF del nombre del Fondo. \n",
    "\n",
    "Hay que luego iterar sobre todos los nombres en la columna, y a cada uno quitarle el nombre del gestor. "
   ]
  },
  {
   "cell_type": "markdown",
   "metadata": {},
   "source": [
    "### Implementacion 1"
   ]
  },
  {
   "cell_type": "code",
   "execution_count": null,
   "metadata": {},
   "outputs": [],
   "source": [
    "# Obtain set de gestores \n",
    "gestores = set(fondos_mutuos_dataframe[\"Administradora\"])\n",
    "\n",
    "\n",
    "# Iterate over pandas series. \n",
    "\n",
    "dataframe_one = fondos_mutuos_dataframe.copy() \n",
    "\n",
    "for fondo in dataframe_one[\"Fondo Mutuo\"]: # problem: variable fondo holds each value in the dataframe, but does not access the value of the dataframe itself\n",
    "    for gestor in gestores:\n",
    "        fondo = fondo.replace(gestor, \"\").strip()\n",
    "    print(fondo)  # problem: fondo is changed, but not the value in the fondos_mutuos_dataframe[]\n",
    "\n",
    "print(dataframe_one[\"Fondo Mutuo\"])\n",
    "\n",
    "# This does not work because the values in the DataFrame are themselves not updated"
   ]
  },
  {
   "cell_type": "markdown",
   "metadata": {},
   "source": [
    "### Implementacion 2\n",
    "\n",
    "Accessing & updating the value in the dataframe, by using location/position on each iteration. "
   ]
  },
  {
   "cell_type": "code",
   "execution_count": null,
   "metadata": {},
   "outputs": [],
   "source": [
    "dataframe_2 = fondos_mutuos_dataframe.copy()\n",
    "\n",
    "for i in range(len(dataframe_2)):\n",
    "    fondo = dataframe_2.loc[i, \"Fondo Mutuo\"]\n",
    "    for gestor in gestores:\n",
    "        fondo = fondo.replace(gestor, \"\").strip()\n",
    "    dataframe_2.loc[i, \"Fondo Mutuo\"] = fondo   # actual values in the \"Fondo Mutuo\" column is updated \n",
    "\n",
    "print(\"Result\")\n",
    "print(dataframe_2)"
   ]
  },
  {
   "cell_type": "markdown",
   "metadata": {},
   "source": [
    "### Implementacion 3\n",
    "Using .apply method for more concise code"
   ]
  },
  {
   "cell_type": "code",
   "execution_count": null,
   "metadata": {},
   "outputs": [],
   "source": [
    "dataframe_3 = fondos_mutuos_dataframe.copy()\n",
    "\n",
    "def remove_gestor(fondo, gestores):\n",
    "    for gestor in gestores:\n",
    "        fondo = fondo.replace(gestor, \"\").strip()\n",
    "    return fondo \n",
    "\n",
    "dataframe_3[\"Fondo Mutuo\"] = dataframe_3[\"Fondo Mutuo\"].apply(remove_gestor, gestores = gestores)\n",
    "\n",
    "print(\"RESULT: \")\n",
    "print(dataframe_3[\"Fondo Mutuo\"])"
   ]
  },
  {
   "cell_type": "markdown",
   "metadata": {},
   "source": [
    "## Task 2: Agregar años de existencial del fondo"
   ]
  },
  {
   "cell_type": "code",
   "execution_count": null,
   "metadata": {},
   "outputs": [],
   "source": [
    "dataframe_años = fondos_mutuos_dataframe.copy()\n",
    "from datetime import datetime \n",
    "\n",
    "dataframe_años[\"Fec. Inicio Operación\"] = pd.to_datetime(dataframe_años[\"Fec. Inicio Operación\"], format='mixed')\n",
    "\n",
    "current_year = datetime.now().year \n",
    "\n",
    "dataframe_años[\"Años\"] = current_year - dataframe_años[\"Fec. Inicio Operación\"].dt.year\n",
    "\n",
    "print(dataframe_años.head())"
   ]
  },
  {
   "cell_type": "markdown",
   "metadata": {},
   "source": [
    "## Task 3: Update Excel Error to Null"
   ]
  },
  {
   "cell_type": "code",
   "execution_count": null,
   "metadata": {},
   "outputs": [],
   "source": [
    "import pandas as pd\n",
    "fondos_mutuos_excelerror = pd.read_csv(\"fondos-mutuos-table-1.csv\")\n",
    "\n",
    "print(fondos_mutuos_excelerror[\"Avg Return Arithmetic\"][1])\n",
    "\n",
    "for i in range(len(fondos_mutuos_excelerror)):\n",
    "    fondos_mutuos_excelerror.loc[i,\"Standard Dev\"] = fondos_mutuos_excelerror.loc[i,\"Standard Dev\"].replace(\"#DIV/0!\", \"\")\n",
    "    fondos_mutuos_excelerror.loc[i, \"Avg Return Arithmetic\"] = fondos_mutuos_excelerror.loc[i,\"Avg Return Arithmetic\"].replace(\"#DIV/0!\", \"\")\n",
    "\n",
    "print(fondos_mutuos_excelerror[\"Avg Return Arithmetic\"][1])\n",
    "\n"
   ]
  },
  {
   "cell_type": "markdown",
   "metadata": {},
   "source": [
    "## Task 4: Convert Std. Dev & Avg. Mean from String --> Numbers "
   ]
  },
  {
   "cell_type": "code",
   "execution_count": null,
   "metadata": {},
   "outputs": [],
   "source": [
    "import pandas as pd\n",
    "\n",
    "fondos_mutuos_dataframe = pd.read_csv(\"fondos-mutuos-table-1.csv\")\n",
    "\n",
    "# Values Before \n",
    "print(fondos_mutuos_dataframe[\"Standard Dev\"][0])\n",
    "print(type(fondos_mutuos_dataframe[\"Standard Dev\"][0]))\n",
    "print(\"\")\n",
    "\n",
    "\n",
    "# Use pandas.to_numeric to convert values in the series from strings to --> numpy floats  \n",
    "fondos_mutuos_dataframe[\"Standard Dev\"] = pd.to_numeric(fondos_mutuos_dataframe[\"Standard Dev\"], errors = \"coerce\")\n",
    "fondos_mutuos_dataframe[\"Avg Return Arithmetic\"] = pd.to_numeric(fondos_mutuos_dataframe[\"Avg Return Arithmetic\"] , errors = \"coerce\")\n",
    "\n",
    "print(fondos_mutuos_dataframe[\"Standard Dev\"][0])\n",
    "print(type(fondos_mutuos_dataframe[\"Standard Dev\"][0]))\n",
    "print(\"\")\n",
    "\n",
    "print(\"Avg Arithmetic:\")\n",
    "print(fondos_mutuos_dataframe[\"Avg Return Arithmetic\"][0])\n",
    "print(type(fondos_mutuos_dataframe[\"Avg Return Arithmetic\"][0]))\n",
    "\n"
   ]
  },
  {
   "cell_type": "markdown",
   "metadata": {},
   "source": [
    "## Task 4: Agregar Cumulative Return (total + anualized) & CAGR"
   ]
  },
  {
   "cell_type": "code",
   "execution_count": null,
   "metadata": {},
   "outputs": [],
   "source": [
    "dataframe_GeometricMean = fondos_mutuos_dataframe.copy()\n",
    "\n",
    "#print(type(dataframe_GeometricMean[\"Rentabilidad 2024\"][1]))\n",
    "\n",
    "print(dataframe_GeometricMean[\"Rentabilidad 2023\"][2])\n",
    "\n",
    "for i in range(len(dataframe_GeometricMean)):\n",
    "    print(type(dataframe_GeometricMean[\"Rentabilidad 2023\"][i]))\n",
    "\n"
   ]
  },
  {
   "cell_type": "code",
   "execution_count": null,
   "metadata": {},
   "outputs": [],
   "source": [
    "import json\n",
    "\n",
    "file = open('fondos-mutuos-data-2.json') \n",
    "\n",
    "# load fie to a python list object\n",
    "fondos_mutuos_array = json.load(file)  \n",
    "print(type(fondos_mutuos_array))\n",
    "\n",
    "# Get dictionary of the first fund\n",
    "fund_one = fondos_mutuos_array[0]\n",
    "print(type(fund_one))\n",
    "\n",
    "# get list of keys\n",
    "fund_keys = list(fund_one.keys()) # uses .keys method to get a list of the keys of the dictionary\n",
    "\n",
    "# reverse the list of keys\n",
    "fund_keys.reverse()\n",
    "\n",
    "\n",
    "investment = 100 \n",
    "\n",
    "# iterate over the keys, if its a rentability key, multiply investment x return value\n",
    "for key in fund_keys:\n",
    "    if \"Rentabilidad\" in key:\n",
    "        investment *= 1 + fund_one[key]\n",
    "print(\"cumulative return : \", investment)\n",
    "\n",
    "# cumulative return as a % \n",
    "cumulative_return = (investment - 100) / 100\n",
    "print(\"cumulative return pct : \" , cumulative_return)\n",
    "\n",
    "# Create new cumulative return data point\n",
    "fund_one[\"Cumulative Return\"] = cumulative_return\n",
    "\n",
    "print(fund_one)\n",
    "\n",
    "\n"
   ]
  },
  {
   "cell_type": "code",
   "execution_count": null,
   "metadata": {},
   "outputs": [],
   "source": [
    "# formula for the CAGR and cumulaltive return on a dictionary with anual return values \n",
    "\n",
    "def cagr_cumulative_return(fund, starting_investment=100): \n",
    "\n",
    "    asset_value = starting_investment\n",
    "\n",
    "    has_return_data = False \n",
    "\n",
    "    fund_keys = list(fund.keys())\n",
    "    fund_keys.reverse()\n",
    "\n",
    "    fund_years = 0 \n",
    "\n",
    "    for key in fund_keys: \n",
    "        if \"Rentabilidad\" in key and fund[key] is not None: \n",
    "            asset_value *= 1 + fund[key]\n",
    "            if \"2024\" in key:\n",
    "                fund_years += 0.5  \n",
    "            else: \n",
    "                fund_years += 1\n",
    "            has_return_data = True\n",
    "\n",
    "    if has_return_data:\n",
    "        cumulative_return = ((asset_value - starting_investment) / starting_investment)\n",
    "        \n",
    "        cumulative_return_anualized = cumulative_return / fund_years\n",
    "\n",
    "        fund[\"Total Cumulative Return\"] = cumulative_return\n",
    "\n",
    "        fund[\"Cumulative Return Period\"] = fund_years\n",
    "\n",
    "        fund[\"Annualized Cumulative Return\"] = cumulative_return_anualized\n",
    "\n",
    "        cagr = (asset_value / starting_investment)**(1/fund_years) - 1\n",
    "        fund[\"CAGR\"] = cagr\n",
    "\n",
    "    \n",
    "    else: \n",
    "        fund[\"Total Cumulative Return\"] = None\n",
    "\n",
    "    return fund\n",
    "\n",
    "\n",
    "# Testing: \n",
    "fondos_array_copy = fondos_mutuos_array.copy() # make copy of array\n",
    "print(fondos_array_copy[9][\"Fondo Mutuo\"])  \n",
    "print(fondos_array_copy[9]) # one fund's data before function \n",
    "\n",
    "print(\"\")\n",
    "\n",
    "# Apply function to fund data \n",
    "cagr_cumulative_return(fondos_array_copy[9], 15000)\n",
    "print(fondos_array_copy[9])"
   ]
  },
  {
   "cell_type": "markdown",
   "metadata": {},
   "source": [
    "## Task 5: Sharpe Ratio\n",
    "- calculate fund's sharpe ratio\n",
    "- sharpe ratio is a measure of risk adjusted return\n",
    "- return per unit of risk\n",
    "\n",
    "sharpe ratio is given by: \n",
    "- S = (portfolio return - risk free rate) / standard dev \n",
    "\n",
    "Sharpe Ratio for this Case:\n",
    "- S = (CAGR - average 10-year t-bill of last 10 years) / fund's standard dev of annualized returns"
   ]
  },
  {
   "cell_type": "code",
   "execution_count": null,
   "metadata": {},
   "outputs": [],
   "source": [
    "risk_free_rate = .023 # average 10 year t-bill rate of the last 10 years\n",
    "\n",
    "import json\n",
    "\n",
    "file = open(\"fondos-mutuos-data-3.json\")\n",
    "\n",
    "fondos_mutuos_list = json.load(file)\n",
    "\n",
    "# Testing with one fund dictionary\n",
    "print(fondos_mutuos_list[0])\n",
    "\n",
    "sharpe = (fondos_mutuos_list[0][\"CAGR\"] - risk_free_rate) / fondos_mutuos_list[0][\"Standard Dev\"]\n",
    "fondos_mutuos_list[0][\"Sharpe\"] = sharpe\n",
    "\n",
    "print(fondos_mutuos_list[0])\n",
    "\n",
    "\n",
    "# Iterating through entire list of funds and calculating sharpe for each \n",
    "for i in range(len(fondos_mutuos_list)):\n",
    "    cagr = fondos_mutuos_list[i].get(\"CAGR\")\n",
    "\n",
    "    stdev = fondos_mutuos_list[i].get(\"Standard Dev\")  # using get handles cases where the \"Standard Dev\" key is not in the dictionary, returning null\n",
    "\n",
    "\n",
    "    if cagr is not None and stdev is not None and stdev != 0:\n",
    "        sharpe = (cagr - risk_free_rate) / stdev\n",
    "        fondos_mutuos_list[i][\"Sharpe Ratio\"] = sharpe\n",
    "\n",
    "    else: \n",
    "        fondos_mutuos_list[i][\"Sharpe Ratio\"] = None \n",
    "\n",
    "print(fondos_mutuos_list)\n",
    "\n",
    "\n"
   ]
  },
  {
   "cell_type": "code",
   "execution_count": null,
   "metadata": {},
   "outputs": [],
   "source": [
    "# Function to calculate sharpe ratio. \n",
    "\n",
    "import json\n",
    "\n",
    "file = open(\"fondos-mutuos-data-3.json\")\n",
    "\n",
    "fondos_mutuos_list = json.load(file)\n",
    "\n",
    "\n",
    "def sharpe_ratio(fund, risk_free_rate=0.02):\n",
    "\n",
    "    cagr = fund.get(\"CAGR\")\n",
    "\n",
    "    stdev = fund.get(\"Standard Dev\")\n",
    "\n",
    "    if cagr is not None and stdev is not None and stdev != 0:\n",
    "        sharpe_ratio = (cagr - risk_free_rate) / stdev \n",
    "        fund[\"Sharpe Ratio\"] = sharpe_ratio\n",
    "\n",
    "    else: \n",
    "        fund[\"Sharpe Ratio\"] = None\n",
    "\n",
    "    return fund \n",
    "\n",
    "\n",
    "for fund in fondos_mutuos_list:\n",
    "    sharpe_ratio(fund)\n",
    "\n",
    "print(fondos_mutuos_list[1])\n",
    "print(fondos_mutuos_list[2])\n",
    "\n",
    "    "
   ]
  },
  {
   "cell_type": "markdown",
   "metadata": {},
   "source": [
    "## Task 6: Categorias de Fondos\n",
    "Task: agregar columna de categorias generales de fondos\n",
    "\n",
    "#### Tipos de Fondo:\n",
    "- renta variable\n",
    "- renta fija\n",
    "    -  corto plazo soles y dolares: \n",
    "        - fondos de dueda (renta fija) que invierten en mercado monetario (depositos a plazo y certificados de deposito). \n",
    "        - horizonte de inversion de corto plazo. no pagas rescate anticipado. \n",
    "    - inst. deuda \n",
    "        - mediano plazo\n",
    "        - corto plazo\n",
    "        - duracion flexible\n",
    "    - instrumento de deuda\n",
    "- estructurado\n",
    "    - busca obtener una renta previamente determinada \n",
    "- renta mixta\n",
    "    - instrumentos de deuda de distintos plazos + acciones / fondos etc. \n",
    "- flexible\n",
    "- fondo de fondos\n"
   ]
  },
  {
   "cell_type": "markdown",
   "metadata": {},
   "source": [
    "### Implementacion 1:"
   ]
  },
  {
   "cell_type": "code",
   "execution_count": null,
   "metadata": {},
   "outputs": [],
   "source": [
    "import pandas as pd\n",
    "\n",
    "\"\"\"\n",
    "This script is meant to add a new column called \"Categoria\" to the dataframe: fondos_mutuos_dataframe_3. \n",
    "    - The value in the \"Categoria\" column will depend on the value in the \"Tipo Fondo\" column\n",
    "    - If the row's value for the \"Tipo Fondo\" column is in the categrias_renta_fija list, then add \"Renta Fija\" as its value for the \"Categoria\" Column\n",
    "    - Else, if the row's value for the \"Tipo Fondo\" column is in the categorias_renta_mixta list, then add \"Renta Mixta\" as its value for the \"Categoria\" column\n",
    "    - Else, if the row's value for the \"Tipo Fondo\" column is either \"Flexible\" or \"Flexible Dolares\" then add \"Flexible\" as its value for the \"Categoria\" column\n",
    "    - Else: set the row's value for the \"Categoria\" column = the row's value in the \"Tipo Fondo\" column\n",
    "\n",
    "\"\"\"\n",
    "fondos_mutuos_dataframe_3 = pd.read_csv(\"fondos-mutuos-table-3.csv\")\n",
    "\n",
    "# Get set of unique type of funds from the \"Tipo Fondo\" column\n",
    "tipo_de_fondos = set(fondos_mutuos_dataframe_3[\"Tipo Fondo\"])\n",
    "\n",
    "#for i in tipo_de_fondos:\n",
    "#    print(i)\n",
    "\n",
    "categorias_renta_fija = [\"Corto Plazo Soles\",\"Corto Plazo Dólares\", \"Inst. Deuda Mediano Plazo S/\", \"Inst. Deuda Mediano Plazo $\",\n",
    "                         \"Inst. Deuda Corto Plazo S/\", \"Inst. Deuda Corto Plazo $\", \"Inst Deuda Duración Flexibl S/\" , \n",
    "                         \"Inst Deuda Duración Flexibl $\" , \"Instrumento de Deuda\"]\n",
    "\n",
    "categorias_renta_mixta = [\"Renta Mixta Crecimiento Soles\", \"Renta Mixta Balanceado Dólares\", \"Renta Mixta Moderado Soles\", \n",
    "                          \"Renta Mixta Moderado Dólares\"]\n",
    "\n",
    "# Iterate over the dataframe's rows, \n",
    "for i in range(len(fondos_mutuos_dataframe_3)):\n",
    "    if fondos_mutuos_dataframe_3[i][\"Tipo Fondo\"] in categorias_renta_fija:  # If the row's value for Tipo Fondo column is in categorias_renta_fija, add \"Renta Fija\" as the value for the row's Categoria column\n",
    "        fondos_mutuos_dataframe_3[i][\"Categoria\"] = \"Renta Fija\"\n",
    "    elif fondos_mutuos_dataframe_3[i][\"Tipo Fondo\"] in categorias_renta_mixta: # Else if the value is in categorias renta mixta, add \"Renta Mixta\" as the value for the row's categoria colun\n",
    "        fondos_mutuos_dataframe_3[i][\"Categoria\"] = \"Renta Mixta\"\n",
    "    elif fondos_mutuos_dataframe_3[i][\"Tipo Fondo\"] == \"Flexible\" or fondos_mutuos_dataframe_3[i][\"Tipo Fondo\"] == \"Flexible Dólares\":\n",
    "        fondos_mutuos_dataframe_3[i][\"Categoria\"] = \"Flexible\"\n",
    "    else:\n",
    "        fondos_mutuos_dataframe_3.loc[\"Categoria\"] = fondos_mutuos_dataframe_3.loc[i][\"Tipo Fondo\"] # else, set the value for the Categoria column = to the value in the \"Tipo Fondo\" column\n",
    "\n",
    "\n",
    "\n",
    "print(fondos_mutuos_dataframe_3.head())"
   ]
  },
  {
   "cell_type": "markdown",
   "metadata": {},
   "source": [
    "### Implementacion 2: using .loc"
   ]
  },
  {
   "cell_type": "code",
   "execution_count": null,
   "metadata": {},
   "outputs": [],
   "source": [
    "import pandas as pd\n",
    "\n",
    "fondos_mutuos_dataframe_3 = pd.read_csv(\"fondos-mutuos-table-3.csv\")\n",
    "\n",
    "# Get set of unique type of funds from the \"Tipo Fondo\" column\n",
    "tipo_de_fondos = set(fondos_mutuos_dataframe_3[\"Tipo Fondo\"])\n",
    "\n",
    "categorias_renta_fija = [\"Corto Plazo Soles\",\"Corto Plazo Dólares\", \"Inst. Deuda Mediano Plazo S/\", \"Inst. Deuda Mediano Plazo $\",\n",
    "                         \"Inst. Deuda Corto Plazo S/\", \"Inst. Deuda Corto Plazo $\", \"Inst Deuda Duración Flexibl S/\" , \n",
    "                         \"Inst Deuda Duración Flexibl $\" , \"Instrumento de Deuda\"]\n",
    "\n",
    "categorias_renta_mixta = [\"Renta Mixta Crecimiento Soles\", \"Renta Mixta Balanceado Dólares\", \"Renta Mixta Moderado Soles\", \n",
    "                          \"Renta Mixta Moderado Dólares\"]\n",
    "\n",
    "# Alternative implementation using panad's .loc method\n",
    "for i in range(len(fondos_mutuos_dataframe_3)):\n",
    "    if fondos_mutuos_dataframe_3.loc[i, \"Tipo Fondo\"] in categorias_renta_fija:\n",
    "        fondos_mutuos_dataframe_3.loc[i, \"Categoria\"] = \"Renta Fija\"\n",
    "    elif fondos_mutuos_dataframe_3.loc[i, \"Tipo Fondo\"] in categorias_renta_mixta:\n",
    "        fondos_mutuos_dataframe_3.loc[i, \"Categoria\"] = \"Renta Mixta\"\n",
    "    elif fondos_mutuos_dataframe_3.loc[i, \"Tipo Fondo\"] == \"Flexible\" or fondos_mutuos_dataframe_3.loc[i, \"Tipo Fondo\"] == \"Flexible Dólares\":\n",
    "        fondos_mutuos_dataframe_3.loc[i, \"Categoria\"] = \"Flexible\"\n",
    "    else:\n",
    "        fondos_mutuos_dataframe_3.loc[i, \"Categoria\"] = fondos_mutuos_dataframe_3.loc[i][\"Tipo Fondo\"]\n",
    "\n",
    "#print(fondos_mutuos_dataframe_3.head())\n",
    "\n",
    "for i in range(10):\n",
    "    print(fondos_mutuos_dataframe_3.iloc[i])"
   ]
  }
 ],
 "metadata": {
  "kernelspec": {
   "display_name": "haku-data-xNhk3P8A-py3.9",
   "language": "python",
   "name": "python3"
  },
  "language_info": {
   "codemirror_mode": {
    "name": "ipython",
    "version": 3
   },
   "file_extension": ".py",
   "mimetype": "text/x-python",
   "name": "python",
   "nbconvert_exporter": "python",
   "pygments_lexer": "ipython3",
   "version": "3.9.6"
  }
 },
 "nbformat": 4,
 "nbformat_minor": 2
}
